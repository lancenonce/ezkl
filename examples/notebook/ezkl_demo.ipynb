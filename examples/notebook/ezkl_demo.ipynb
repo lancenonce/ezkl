{
 "cells": [
  {
   "cell_type": "markdown",
   "id": "98499cbe",
   "metadata": {},
   "source": [
    "## EZKL Jupyter Notebook Demo \n",
    "\n",
    "To get started install [miniconda](https://docs.conda.io/en/latest/miniconda.html) for your system. From there create an new evironment:\n",
    "\n",
    "```bash\n",
    "conda create -n ezkl python=3.9\n",
    "```\n",
    "\n",
    "Activate your newly created environment and install the requisite dependencies:\n",
    "\n",
    "```bash\n",
    "conda activate ezkl; pip install torch numpy ezkl;     \n",
    "```\n",
    "\n",
    "Now within this repository install the python bindings: \n",
    "\n",
    "```bash \n",
    "\n",
    "pip install -r requirements.txt\n",
    "maturin develop --features python-bindings\n",
    "\n",
    "```\n",
    "\n",
    "💎 You should now be able to run the rest of the notebook 💎\n"
   ]
  },
  {
   "cell_type": "code",
   "execution_count": 1,
   "id": "95613ee9",
   "metadata": {},
   "outputs": [],
   "source": [
    "# here we create and (potentially train a model)\n",
    "\n",
    "from torch import nn\n",
    "from ezkl import export\n",
    "import ezkl_lib\n",
    "import os\n",
    "import json \n",
    "\n",
    "\n",
    "# Defines the model\n",
    "# we got convs, we got relu, we got linear layers \n",
    "# What else could one want ???? \n",
    "\n",
    "class MyModel(nn.Module):\n",
    "    def __init__(self):\n",
    "        super(MyModel, self).__init__()\n",
    "\n",
    "        self.conv1 = nn.Conv2d(in_channels=1, out_channels=2, kernel_size=5, stride=2)\n",
    "        self.conv2 = nn.Conv2d(in_channels=2, out_channels=3, kernel_size=5, stride=2)\n",
    "        \n",
    "        self.relu = nn.ReLU()\n",
    "\n",
    "        self.d1 = nn.Linear(48, 48)\n",
    "        self.d2 = nn.Linear(48, 10)\n",
    "\n",
    "    def forward(self, x):\n",
    "        # 32x1x28x28 => 32x32x26x26\n",
    "        x = self.conv1(x)\n",
    "        x = self.relu(x)\n",
    "        x = self.conv2(x)\n",
    "        x = self.relu(x)\n",
    "\n",
    "        # flatten => 32 x (32*26*26)\n",
    "        x = x.flatten(start_dim = 1)\n",
    "\n",
    "        # 32 x (32*26*26) => 32x128\n",
    "        x = self.d1(x)\n",
    "        x = self.relu(x)\n",
    "\n",
    "        # logits => 32x10\n",
    "        logits = self.d2(x)\n",
    "       \n",
    "        return logits\n",
    "\n",
    "circuit = MyModel()\n",
    "export(circuit, input_shape = [1,28,28])\n",
    "\n"
   ]
  },
  {
   "cell_type": "code",
   "execution_count": 2,
   "id": "2e09b03f",
   "metadata": {},
   "outputs": [],
   "source": [
    "\n",
    "output_path = os.path.join('input.json')\n",
    "\n",
    "data_path = os.path.join('input.json')\n",
    "\n",
    "model_path = os.path.join('network.onnx')\n",
    "\n",
    "res = ezkl_lib.forward(data_path, model_path, output_path)\n",
    "\n",
    "with open(output_path, \"r\") as f:\n",
    "    data = json.load(f)"
   ]
  },
  {
   "cell_type": "code",
   "execution_count": 3,
   "id": "b1c561a8",
   "metadata": {},
   "outputs": [
    {
     "name": "stderr",
     "output_type": "stream",
     "text": [
      "assigning lookup input\n",
      "assigning lookup output\n",
      "laying out table for \"RELU\"\n",
      "assigning lookup input\n",
      "assigning lookup output\n",
      "laying out table for \"RELU\"\n"
     ]
    }
   ],
   "source": [
    "\n",
    "# HERE WE SETUP THE CIRCUIT PARAMS \n",
    "# WE GOT KEYS \n",
    "# WE GOT CIRCUIT PARAMETERS \n",
    "# EVERYTHING ANYONE HAS EVER NEEDED FOR ZK \n",
    "\n",
    "\n",
    "pk_path = os.path.join('test.pk')\n",
    "vk_path = os.path.join('test.vk')\n",
    "circuit_params_path = os.path.join('circuit.params')\n",
    "params_path = os.path.join('kzg.params')\n",
    "\n",
    "res = ezkl_lib.setup(\n",
    "        data_path,\n",
    "        model_path,\n",
    "        vk_path,\n",
    "        pk_path,\n",
    "        params_path,\n",
    "        circuit_params_path,\n",
    "    )\n",
    "\n",
    "assert res == True\n",
    "assert os.path.isfile(vk_path)\n",
    "assert os.path.isfile(pk_path)\n",
    "assert os.path.isfile(circuit_params_path)"
   ]
  },
  {
   "cell_type": "code",
   "execution_count": 4,
   "id": "c384cbc8",
   "metadata": {},
   "outputs": [
    {
     "name": "stderr",
     "output_type": "stream",
     "text": [
      "assigning lookup input\n",
      "assigning lookup output\n",
      "assigning lookup input\n",
      "assigning lookup output\n",
      "laying out table for \"RELU\"\n",
      "assigning lookup input\n",
      "assigning lookup output\n",
      "laying out table for \"RELU\"\n"
     ]
    }
   ],
   "source": [
    "# GENERATE A PROOF \n",
    "proof_path = os.path.join('test.pf')\n",
    "\n",
    "res = ezkl_lib.prove(\n",
    "        data_path,\n",
    "        model_path,\n",
    "        pk_path,\n",
    "        proof_path,\n",
    "        params_path,\n",
    "        \"poseidon\",\n",
    "        \"single\",\n",
    "    )\n",
    "\n",
    "assert res == True\n",
    "assert os.path.isfile(proof_path)"
   ]
  },
  {
   "cell_type": "code",
   "execution_count": 5,
   "id": "76f00d41",
   "metadata": {},
   "outputs": [
    {
     "name": "stderr",
     "output_type": "stream",
     "text": [
      "assigning lookup input\n",
      "assigning lookup output\n"
     ]
    },
    {
     "name": "stdout",
     "output_type": "stream",
     "text": [
      "verified\n"
     ]
    }
   ],
   "source": [
    "# VERIFY IT \n",
    "\n",
    "res = ezkl_lib.verify(\n",
    "        proof_path,\n",
    "        circuit_params_path,\n",
    "        vk_path,\n",
    "        params_path,\n",
    "        \"poseidon\",\n",
    "    )\n",
    "\n",
    "assert res == True\n",
    "print(\"verified\")"
   ]
  },
  {
   "cell_type": "code",
   "execution_count": null,
   "id": "4b21256d",
   "metadata": {},
   "outputs": [],
   "source": []
  }
 ],
 "metadata": {
  "kernelspec": {
   "display_name": "Python 3 (ipykernel)",
   "language": "python",
   "name": "python3"
  },
  "language_info": {
   "codemirror_mode": {
    "name": "ipython",
    "version": 3
   },
   "file_extension": ".py",
   "mimetype": "text/x-python",
   "name": "python",
   "nbconvert_exporter": "python",
   "pygments_lexer": "ipython3",
   "version": "3.9.15"
  }
 },
 "nbformat": 4,
 "nbformat_minor": 5
}
